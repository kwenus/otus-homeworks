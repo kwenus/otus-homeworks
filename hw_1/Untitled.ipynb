{
 "cells": [
  {
   "cell_type": "markdown",
   "id": "2b8137d9",
   "metadata": {},
   "source": [
    "# Задача №1"
   ]
  },
  {
   "cell_type": "markdown",
   "id": "a1829762",
   "metadata": {},
   "source": [
    "Задача 1\n",
    "\n",
    "𝑁 хоббитов делят 𝐾 кусков эльфийского хлеба поровну, не делящийся нацело остаток остается в корзинке у Сэма. Напишите функцию, которая принимает на вход параметры 𝑁 и 𝐾 и возвращает два числа: 𝑥 - cколько кусков эльфиского хлеба достанется каждому хоббиту, и 𝑦 - сколько кусков остаётся в корзинке."
   ]
  },
  {
   "cell_type": "code",
   "execution_count": 4,
   "id": "ae0db24b",
   "metadata": {},
   "outputs": [],
   "source": [
    "def share_bread(N, K):\n",
    "    x = int(K / N)\n",
    "    y = K % N\n",
    "    return x, y\n",
    "\n",
    "# если в функции всё верно, то после выполнения этой строчки, не должно выскакивать ошибок\n",
    "assert share_bread(N=3, K=14) == (4, 2)"
   ]
  },
  {
   "cell_type": "markdown",
   "id": "b73a417d",
   "metadata": {},
   "source": []
  },
  {
   "cell_type": "markdown",
   "id": "ba8dbc99",
   "metadata": {},
   "source": [
    "# Задача №2 "
   ]
  },
  {
   "cell_type": "markdown",
   "id": "29468f13",
   "metadata": {},
   "source": [
    "В копях Мории хоббиты нашли стену, на которой высечены разные натуральные числа. Согласно древним сказаниям, это даты сражений. Хоббиты знают, что сражения происходили только по високосным годам. Помогите хоббитам определить, является ли год с данным числом датой великого сражения. Если это так, то верните строку \"YOU SHALL PASS\", иначе верните \"YOU SHALL NOT PASS\". Напомним, что в соответствии с хоббитским календарем, год является високосным, если его номер кратен 4, но не кратен 100, а также если он кратен 400."
   ]
  },
  {
   "cell_type": "code",
   "execution_count": 10,
   "id": "e47654b2",
   "metadata": {},
   "outputs": [],
   "source": [
    "def leap_year(year):\n",
    "    if year % 4 == 0 and year % 100 == 0 and year % 400 == 0:\n",
    "        text_result = \"YOU SHALL PASS\"\n",
    "    else:\n",
    "        text_result = \"YOU SHALL NOT PASS\"\n",
    "    return text_result\n",
    "\n",
    "assert leap_year(5) == 'YOU SHALL NOT PASS'"
   ]
  },
  {
   "cell_type": "markdown",
   "id": "fe450ac2",
   "metadata": {},
   "source": []
  },
  {
   "cell_type": "markdown",
   "id": "9ae0ef09",
   "metadata": {},
   "source": [
    "# Задача №3"
   ]
  },
  {
   "cell_type": "markdown",
   "id": "ad29c7d6",
   "metadata": {},
   "source": [
    "Для могущественного магического ритуала Гендальфу необходимо быстро подсчитывать площадь своего амулета, который умеет менять размеры. Известно, что амулет имеет форму треугольника и Гендальф знает длину каждой из сторон. Напишите функцию, которая считает площадь амулета по трем сторонам.\n",
    "Подсказка: используйте формулу Герона"
   ]
  },
  {
   "cell_type": "code",
   "execution_count": null,
   "id": "85885058",
   "metadata": {},
   "outputs": [],
   "source": [
    "def amulet_area(a, b, c):\n",
    "    p = \n",
    "    return S\n",
    "\n",
    "assert amulet_area(3, 4, 5) == 6"
   ]
  }
 ],
 "metadata": {
  "kernelspec": {
   "display_name": "Python 3 (ipykernel)",
   "language": "python",
   "name": "python3"
  },
  "language_info": {
   "codemirror_mode": {
    "name": "ipython",
    "version": 3
   },
   "file_extension": ".py",
   "mimetype": "text/x-python",
   "name": "python",
   "nbconvert_exporter": "python",
   "pygments_lexer": "ipython3",
   "version": "3.10.6"
  }
 },
 "nbformat": 4,
 "nbformat_minor": 5
}
